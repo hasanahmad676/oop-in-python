{
  "nbformat": 4,
  "nbformat_minor": 0,
  "metadata": {
    "colab": {
      "provenance": []
    },
    "kernelspec": {
      "name": "python3",
      "display_name": "Python 3"
    },
    "language_info": {
      "name": "python"
    }
  },
  "cells": [
    {
      "cell_type": "code",
      "source": [
        "class ATM():\n",
        "\n",
        "    def __init__(self):\n",
        "        self.pin = \"\"\n",
        "        self.balance = 0\n",
        "\n",
        "        self.menu()\n",
        "\n",
        "    def menu(self):\n",
        "        user_input = input(\"\"\"\n",
        "\n",
        "            Hello... How will you procced!\n",
        "            1. Enter 1 to create pin\n",
        "            2. Enter 2 to deposit\n",
        "            3. Enter 3 to widreaw\n",
        "            4. Enter 4 to check balance\n",
        "            5. Enter 5 to exit\n",
        "\n",
        "        \"\"\")\n",
        "        if user_input == '1':\n",
        "            self.create_pin()\n",
        "        elif user_input == '2':\n",
        "            self.deposit()\n",
        "        elif user_input == '3':\n",
        "            self.withdraw()\n",
        "        elif user_input == '4':\n",
        "            self.check_balance()\n",
        "        elif user_input == '5':\n",
        "            print(\"exit\")\n",
        "\n",
        "    def create_pin(self):\n",
        "        self.pin = str(input(\"enter your pin:\"))\n",
        "        print(\"pin create successfull\")\n",
        "\n",
        "    def deposit(self):\n",
        "        temp = input(\"enter your pin: \")\n",
        "        if temp == self.pin:\n",
        "            balance_deposit = int(input(\"enter amount you want to deposit: \"))\n",
        "            self.balance = self.balance + balance_deposit\n",
        "            print(\"your deposit is successfull\")\n",
        "        else:\n",
        "            print(\"your pin is invalid\")\n",
        "\n",
        "    def withdraw(self):\n",
        "        temp = input(\"enter your pin\")\n",
        "        if temp == self.pin:\n",
        "            amount_withdraw = int(input(\"enter amount you want to withdraw: \"))\n",
        "            if amount_withdraw < self.balance:\n",
        "                self.balance = self.balance - amount_withdraw\n",
        "                print(\"your withdraw is successfull\")\n",
        "            else:\n",
        "                print(\"you dont have that enough money\")\n",
        "        else:\n",
        "            print(\"your pin is invalid\")\n",
        "\n",
        "    def check_balance(self):\n",
        "        temp = input(\"enter your pin\")\n",
        "        if temp == self.pin:\n",
        "            print(\"your balance is :  \" ,self.balance)\n",
        "        else:\n",
        "            print(\"your pin is invalid\")\n",
        "\n",
        "sbi = ATM()"
      ],
      "metadata": {
        "colab": {
          "base_uri": "https://localhost:8080/"
        },
        "id": "bNx_Zeo2Q3io",
        "outputId": "958aed83-724e-4c06-86eb-ea985dd0a465"
      },
      "execution_count": 60,
      "outputs": [
        {
          "output_type": "stream",
          "name": "stdout",
          "text": [
            "\n",
            "\n",
            "            Hello... How will you procced!\n",
            "            1. Enter 1 to create pin\n",
            "            2. Enter 2 to deposit\n",
            "            3. Enter 3 to widreaw\n",
            "            4. Enter 4 to check balance\n",
            "            5. Enter 5 to exit\n",
            "\n",
            "        1\n",
            "enter your pin:222\n",
            "pin create successfull\n"
          ]
        }
      ]
    },
    {
      "cell_type": "code",
      "source": [
        "sbi.deposit()"
      ],
      "metadata": {
        "colab": {
          "base_uri": "https://localhost:8080/"
        },
        "id": "ck_gvuFnVnhA",
        "outputId": "f38b5b68-203b-45d4-9a0c-100598482d89"
      },
      "execution_count": 61,
      "outputs": [
        {
          "output_type": "stream",
          "name": "stdout",
          "text": [
            "enter your pin: 222\n",
            "enter amount you want to deposit: 20000\n",
            "your deposit is successfull\n"
          ]
        }
      ]
    },
    {
      "cell_type": "code",
      "source": [
        "sbi.check_balance()"
      ],
      "metadata": {
        "colab": {
          "base_uri": "https://localhost:8080/"
        },
        "id": "vh0c1rBCVpmR",
        "outputId": "7acd5d1c-793c-4501-f056-0a51bd828389"
      },
      "execution_count": 62,
      "outputs": [
        {
          "output_type": "stream",
          "name": "stdout",
          "text": [
            "enter your pin222\n",
            "your balance is :   20000\n"
          ]
        }
      ]
    },
    {
      "cell_type": "code",
      "source": [
        "sbi.withdraw()"
      ],
      "metadata": {
        "colab": {
          "base_uri": "https://localhost:8080/"
        },
        "id": "7fiMqQAFV4wG",
        "outputId": "a9e103d2-dbc5-4a13-b14c-412a0f15dbc1"
      },
      "execution_count": 64,
      "outputs": [
        {
          "output_type": "stream",
          "name": "stdout",
          "text": [
            "enter your pin222\n",
            "enter amount you want to withdraw: 30000\n",
            "you dont have that enough money\n"
          ]
        }
      ]
    },
    {
      "cell_type": "code",
      "source": [
        "new=ATM()"
      ],
      "metadata": {
        "colab": {
          "base_uri": "https://localhost:8080/"
        },
        "id": "5c-FTkTPWimU",
        "outputId": "9636a5c6-b419-4e3e-dc59-723e47f596a7"
      },
      "execution_count": 65,
      "outputs": [
        {
          "output_type": "stream",
          "name": "stdout",
          "text": [
            "\n",
            "\n",
            "            Hello... How will you procced!\n",
            "            1. Enter 1 to create pin\n",
            "            2. Enter 2 to deposit\n",
            "            3. Enter 3 to widreaw\n",
            "            4. Enter 4 to check balance\n",
            "            5. Enter 5 to exit\n",
            "\n",
            "        1\n",
            "enter your pin:111\n",
            "pin create successfull\n"
          ]
        }
      ]
    },
    {
      "cell_type": "code",
      "source": [
        "new.deposit()"
      ],
      "metadata": {
        "colab": {
          "base_uri": "https://localhost:8080/"
        },
        "id": "qSkYSpQ4Y5x2",
        "outputId": "ef591e6a-d299-4513-ce0e-bd4312cf82f0"
      },
      "execution_count": 66,
      "outputs": [
        {
          "output_type": "stream",
          "name": "stdout",
          "text": [
            "enter your pin: 111\n",
            "enter amount you want to deposit: 1000\n",
            "your deposit is successfull\n"
          ]
        }
      ]
    },
    {
      "cell_type": "code",
      "source": [
        "new.check_balance()"
      ],
      "metadata": {
        "colab": {
          "base_uri": "https://localhost:8080/"
        },
        "id": "jqyS5NPYZAFR",
        "outputId": "6898a760-c871-48ad-9be5-5a2df0e5fd5b"
      },
      "execution_count": 67,
      "outputs": [
        {
          "output_type": "stream",
          "name": "stdout",
          "text": [
            "enter your pin111\n",
            "your balance is :   1000\n"
          ]
        }
      ]
    },
    {
      "cell_type": "code",
      "source": [
        "new.withdraw()"
      ],
      "metadata": {
        "colab": {
          "base_uri": "https://localhost:8080/"
        },
        "id": "bzZYBaF6ZJ7S",
        "outputId": "b97cf227-c7b2-48ad-c60b-bdce10b1e71e"
      },
      "execution_count": 69,
      "outputs": [
        {
          "output_type": "stream",
          "name": "stdout",
          "text": [
            "enter your pin111\n",
            "enter amount you want to withdraw: 200\n",
            "your withdraw is successfull\n"
          ]
        }
      ]
    },
    {
      "cell_type": "code",
      "source": [
        "sbi.check_balance()"
      ],
      "metadata": {
        "colab": {
          "base_uri": "https://localhost:8080/"
        },
        "id": "RSZkX_j3ZOGx",
        "outputId": "4828b4dc-e920-4d7c-caed-81728698134f"
      },
      "execution_count": 70,
      "outputs": [
        {
          "output_type": "stream",
          "name": "stdout",
          "text": [
            "enter your pin222\n",
            "your balance is :   20000\n"
          ]
        }
      ]
    },
    {
      "cell_type": "code",
      "source": [
        "class ATM():\n",
        "\n",
        "    def __init__(self):\n",
        "        self.pin = \"\"\n",
        "        self.balance = 0\n",
        "\n",
        "        self.menu()\n",
        "\n",
        "    def menu(self):\n",
        "        user_input = input(\"\"\"\n",
        "\n",
        "            Hello... How will you procced!\n",
        "            1. Enter 1 to create pin\n",
        "            2. Enter 2 to deposit\n",
        "            3. Enter 3 to widreaw\n",
        "            4. Enter 4 to check balance\n",
        "            5. Enter 5 to exit\n",
        "\n",
        "        \"\"\")\n",
        "        if user_input == '1':\n",
        "            self.create_pin()\n",
        "        elif user_input == '2':\n",
        "            self.deposit()\n",
        "        elif user_input == '3':\n",
        "            self.withdraw()\n",
        "        elif user_input == '4':\n",
        "            self.check_balance()\n",
        "        elif user_input == '5':\n",
        "            print(\"exit\")\n",
        "\n",
        "    def create_pin(self):\n",
        "        self.pin = input(\"enter your pin:\")\n",
        "        print(\"pin create successfull\")\n",
        "\n",
        "    def deposit(self):\n",
        "        temp = input(\"enter your pin: \")\n",
        "        if temp == self.pin:\n",
        "            balance_deposit = int(input(\"enter amount you want to deposit\"))\n",
        "            self.balance = self.balance + balance_deposit\n",
        "            print(\"your deposit is successfull\")\n",
        "        else:\n",
        "            print(\"your pin is invalid\")\n",
        "\n",
        "    def withdraw(self):\n",
        "        temp = input(\"enter your pin\")\n",
        "        if temp == self.pin:\n",
        "            amount_withdraw = int(input(\"enter amount you want to withdraw\"))\n",
        "            if amount_withdraw < self.balance:\n",
        "                self.balance = self.balance - amount_withdraw\n",
        "                print(\"your withdraw is successfull\")\n",
        "            else:\n",
        "                print(\"you dont have that enough money\")\n",
        "        else:\n",
        "            print(\"your pin is invalid\")\n",
        "\n",
        "    def check_balance(self):\n",
        "        temp = input(\"enter your pin\")\n",
        "        if temp == self.pin:\n",
        "            print(self.balance)\n",
        "        else:\n",
        "            print(\"your pin is invalid\")\n",
        "\n",
        "sbi1 = ATM()"
      ],
      "metadata": {
        "colab": {
          "base_uri": "https://localhost:8080/"
        },
        "id": "LHl-L6kCZYi4",
        "outputId": "92e57e76-801a-4ef1-adf0-8f31a866d906"
      },
      "execution_count": 73,
      "outputs": [
        {
          "output_type": "stream",
          "name": "stdout",
          "text": [
            "\n",
            "\n",
            "            Hello... How will you procced!\n",
            "            1. Enter 1 to create pin\n",
            "            2. Enter 2 to deposit\n",
            "            3. Enter 3 to widreaw\n",
            "            4. Enter 4 to check balance\n",
            "            5. Enter 5 to exit\n",
            "\n",
            "        1\n",
            "enter your pin:111\n",
            "pin create successfull\n"
          ]
        }
      ]
    },
    {
      "cell_type": "code",
      "source": [
        "sbi1.deposit()"
      ],
      "metadata": {
        "colab": {
          "base_uri": "https://localhost:8080/"
        },
        "id": "5VuG2wuFaMZT",
        "outputId": "afff5b3c-3d12-4913-c32c-a0f5f237ae63"
      },
      "execution_count": 74,
      "outputs": [
        {
          "output_type": "stream",
          "name": "stdout",
          "text": [
            "enter your pin: 111\n",
            "enter amount you want to deposit22000\n",
            "your deposit is successfull\n"
          ]
        }
      ]
    },
    {
      "cell_type": "code",
      "source": [
        "#magic method\n",
        "dir(int)"
      ],
      "metadata": {
        "colab": {
          "base_uri": "https://localhost:8080/"
        },
        "id": "yorF54-qaV1j",
        "outputId": "4ce3c232-1db8-46d3-ff67-f9c41a228835"
      },
      "execution_count": 76,
      "outputs": [
        {
          "output_type": "execute_result",
          "data": {
            "text/plain": [
              "['__abs__',\n",
              " '__add__',\n",
              " '__and__',\n",
              " '__bool__',\n",
              " '__ceil__',\n",
              " '__class__',\n",
              " '__delattr__',\n",
              " '__dir__',\n",
              " '__divmod__',\n",
              " '__doc__',\n",
              " '__eq__',\n",
              " '__float__',\n",
              " '__floor__',\n",
              " '__floordiv__',\n",
              " '__format__',\n",
              " '__ge__',\n",
              " '__getattribute__',\n",
              " '__getnewargs__',\n",
              " '__gt__',\n",
              " '__hash__',\n",
              " '__index__',\n",
              " '__init__',\n",
              " '__init_subclass__',\n",
              " '__int__',\n",
              " '__invert__',\n",
              " '__le__',\n",
              " '__lshift__',\n",
              " '__lt__',\n",
              " '__mod__',\n",
              " '__mul__',\n",
              " '__ne__',\n",
              " '__neg__',\n",
              " '__new__',\n",
              " '__or__',\n",
              " '__pos__',\n",
              " '__pow__',\n",
              " '__radd__',\n",
              " '__rand__',\n",
              " '__rdivmod__',\n",
              " '__reduce__',\n",
              " '__reduce_ex__',\n",
              " '__repr__',\n",
              " '__rfloordiv__',\n",
              " '__rlshift__',\n",
              " '__rmod__',\n",
              " '__rmul__',\n",
              " '__ror__',\n",
              " '__round__',\n",
              " '__rpow__',\n",
              " '__rrshift__',\n",
              " '__rshift__',\n",
              " '__rsub__',\n",
              " '__rtruediv__',\n",
              " '__rxor__',\n",
              " '__setattr__',\n",
              " '__sizeof__',\n",
              " '__str__',\n",
              " '__sub__',\n",
              " '__subclasshook__',\n",
              " '__truediv__',\n",
              " '__trunc__',\n",
              " '__xor__',\n",
              " 'as_integer_ratio',\n",
              " 'bit_count',\n",
              " 'bit_length',\n",
              " 'conjugate',\n",
              " 'denominator',\n",
              " 'from_bytes',\n",
              " 'imag',\n",
              " 'numerator',\n",
              " 'real',\n",
              " 'to_bytes']"
            ]
          },
          "metadata": {},
          "execution_count": 76
        }
      ]
    },
    {
      "cell_type": "code",
      "source": [],
      "metadata": {
        "id": "U05vyQYBa_Ih"
      },
      "execution_count": null,
      "outputs": []
    }
  ]
}