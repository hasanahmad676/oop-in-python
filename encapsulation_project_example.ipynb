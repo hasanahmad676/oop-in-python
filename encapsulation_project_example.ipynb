{
  "nbformat": 4,
  "nbformat_minor": 0,
  "metadata": {
    "colab": {
      "provenance": []
    },
    "kernelspec": {
      "name": "python3",
      "display_name": "Python 3"
    },
    "language_info": {
      "name": "python"
    }
  },
  "cells": [
    {
      "cell_type": "code",
      "execution_count": 6,
      "metadata": {
        "id": "pDdjAaOZv4-x"
      },
      "outputs": [],
      "source": [
        "class ATM():\n",
        "\n",
        "    def __init__(self):\n",
        "        self.__pin = \"\"\n",
        "        self.__balance = 0\n",
        "\n",
        "        self.__menu()\n",
        "\n",
        "    def __menu(self):\n",
        "        user_input = input(\"\"\"\n",
        "\n",
        "            Hello... How will you procced!\n",
        "            1. Enter 1 to create pin\n",
        "            2. Enter 2 to deposit\n",
        "            3. Enter 3 to widreaw\n",
        "            4. Enter 4 to check balance\n",
        "            5. Enter 5 to exit\n",
        "\n",
        "        \"\"\")\n",
        "        if user_input == '1':\n",
        "            self.create_pin()\n",
        "        elif user_input == '2':\n",
        "            self.deposit()\n",
        "        elif user_input == '3':\n",
        "            self.withdraw()\n",
        "        elif user_input == '4':\n",
        "            self.check_balance()\n",
        "        elif user_input == '5':\n",
        "            print(\"exit\")\n",
        "\n",
        "    def create_pin(self):\n",
        "        self.__pin = str(input(\"enter your pin:\"))\n",
        "        print(\"pin create successfull\")\n",
        "\n",
        "    def deposit(self):\n",
        "        temp = input(\"enter your pin: \")\n",
        "        if temp == self.__pin:\n",
        "            balance_deposit = int(input(\"enter amount you want to deposit: \"))\n",
        "            self.__balance = self.__balance + balance_deposit\n",
        "            print(\"your deposit is successfull\")\n",
        "        else:\n",
        "            print(\"your pin is invalid\")\n",
        "\n",
        "    def withdraw(self):\n",
        "        temp = input(\"enter your pin\")\n",
        "        if temp == self.__pin:\n",
        "            amount_withdraw = int(input(\"enter amount you want to withdraw: \"))\n",
        "            if amount_withdraw < self.__balance:\n",
        "                self.__balance = self.__balance - amount_withdraw\n",
        "                print(\"your withdraw is successfull\")\n",
        "            else:\n",
        "                print(\"you dont have that enough money\")\n",
        "        else:\n",
        "            print(\"your pin is invalid\")\n",
        "\n",
        "    def check_balance(self):\n",
        "        temp = input(\"enter your pin\")\n",
        "        if temp == self.__pin:\n",
        "            print(\"your balance is :  \" ,self.__balance)\n",
        "        else:\n",
        "            print(\"your pin is invalid\")\n",
        "\n"
      ]
    },
    {
      "cell_type": "code",
      "source": [
        "sbi=ATM()"
      ],
      "metadata": {
        "colab": {
          "base_uri": "https://localhost:8080/"
        },
        "id": "2YOF-AnlwbH7",
        "outputId": "d4338654-1632-47d5-b96f-cd128532c2b0"
      },
      "execution_count": 7,
      "outputs": [
        {
          "output_type": "stream",
          "name": "stdout",
          "text": [
            "\n",
            "\n",
            "            Hello... How will you procced!\n",
            "            1. Enter 1 to create pin\n",
            "            2. Enter 2 to deposit\n",
            "            3. Enter 3 to widreaw\n",
            "            4. Enter 4 to check balance\n",
            "            5. Enter 5 to exit\n",
            "\n",
            "        1\n",
            "enter your pin:111\n",
            "pin create successfull\n"
          ]
        }
      ]
    },
    {
      "cell_type": "code",
      "source": [
        "sbi.check_balance()"
      ],
      "metadata": {
        "colab": {
          "base_uri": "https://localhost:8080/"
        },
        "id": "lt5SZcYOydwu",
        "outputId": "cb5c7077-8996-4428-ecca-f4084187c583"
      },
      "execution_count": 8,
      "outputs": [
        {
          "output_type": "stream",
          "name": "stdout",
          "text": [
            "enter your pin111\n",
            "your balance is :   0\n"
          ]
        }
      ]
    },
    {
      "cell_type": "code",
      "source": [
        "#OOPs in Practice with Coding\n",
        "\n",
        "class Atm:\n",
        "    #Constructor\n",
        "    def __init__(self): #Constructor\n",
        "        self.__pin = ''\n",
        "        self.__balance=0\n",
        "\n",
        "        self.__menu()\n",
        "\n",
        "\n",
        "    def get_pin(self):\n",
        "        return self.__pin\n",
        "\n",
        "    def set_pin(self, new_pin):\n",
        "        if type(new_pin)==str:\n",
        "            self.__pin = new_pin\n",
        "            print(\"Pin Changed Succesffuly !\")\n",
        "        else:\n",
        "            print(\"Not Allowed !\")\n",
        "\n",
        "\n",
        "    def __menu(self):\n",
        "        user_input = input(f\"\"\"\n",
        "                Hello, How would you like to proceed ?\n",
        "                1. Enter 1 to create pin\n",
        "                2. Enter 2 to deposite\n",
        "                3. Enter 3 to withdraw\n",
        "                4. Enter 4 to check balance\n",
        "                5. Enter 5 to Exit\n",
        "        \"\"\")\n",
        "        if user_input == '1':\n",
        "            self.create_pin()\n",
        "        elif user_input == '2':\n",
        "            self.deposit()\n",
        "        elif user_input == '3':\n",
        "            self.withdraw()\n",
        "        elif user_input == '4':\n",
        "            self.check_balance()\n",
        "        else:\n",
        "            print(\"Bye\")\n",
        "\n",
        "    #Now we create method (functions)\n",
        "    def create_pin(self):\n",
        "        self.__pin = input(\"Enter you pin : \")\n",
        "        print(\"Pin set successfully \")\n",
        "\n",
        "    def deposit(self):\n",
        "        temp = input(\"Enter you pin : \")\n",
        "        if temp == self.__pin:\n",
        "            amount = int(input(\"Enter the Amount : \"))\n",
        "            self.__balance = self.__balance + amount\n",
        "            print(\"Deposit Successfully \")\n",
        "        else:\n",
        "            print(\"Invalid Pin\")\n",
        "\n",
        "    def withdraw(self):\n",
        "        temp = input(\"Enter you pin : \")\n",
        "        if temp == self.__pin:\n",
        "            amount = int(input(\"Enter the Amount : \"))\n",
        "            if amount < self.__balance:\n",
        "                self.__balance = self.__balance - amount\n",
        "                print(\"OPeration Successfully \")\n",
        "            else:\n",
        "                print(\"Insufficient Funds\")\n",
        "        else:\n",
        "            print(\"Invalid Pin\")\n",
        "\n",
        "    def check_balance(self):\n",
        "        temp = input(\"Enter you pin : \")\n",
        "        if temp == self.__pin:\n",
        "            print(f\"Your Balance : {self.__balance}\")\n",
        "        else:\n",
        "            print(\"Invalid Pin\")\n",
        "\n",
        "\n",
        "\n",
        "sbi = Atm()"
      ],
      "metadata": {
        "colab": {
          "base_uri": "https://localhost:8080/"
        },
        "id": "aRWHBZ3ZxE3Z",
        "outputId": "73b5ec05-929b-48fa-9ca6-e7efc90b6bb5"
      },
      "execution_count": 10,
      "outputs": [
        {
          "output_type": "stream",
          "name": "stdout",
          "text": [
            "\n",
            "                Hello, How would you like to proceed ?\n",
            "                1. Enter 1 to create pin\n",
            "                2. Enter 2 to deposite\n",
            "                3. Enter 3 to withdraw\n",
            "                4. Enter 4 to check balance\n",
            "                5. Enter 5 to Exit        \n",
            "        1\n",
            "Enter you pin : 111\n",
            "Pin set successfully \n"
          ]
        }
      ]
    },
    {
      "cell_type": "code",
      "source": [
        "class Atm:\n",
        "    #Constructor\n",
        "    def __init__(self): #Constructor\n",
        "        self.__pin = ''\n",
        "        self.__balance=0\n",
        "\n",
        "        self.__menu()\n",
        "\n",
        "\n",
        "    def get_pin(self):\n",
        "        return self.__pin\n",
        "\n",
        "    def set_pin(self, new_pin):\n",
        "        if type(new_pin)==str:\n",
        "            self.__pin = new_pin\n",
        "            print(\"Pin Changed Succesffuly !\")\n",
        "        else:\n",
        "            print(\"Not Allowed !\")\n",
        "\n",
        "\n",
        "    def __menu(self):\n",
        "        user_input = input(f\"\"\"\n",
        "                Hello, How would you like to proceed ?\n",
        "                1. Enter 1 to create pin\n",
        "                2. Enter 2 to deposite\n",
        "                3. Enter 3 to withdraw\n",
        "                4. Enter 4 to check balance\n",
        "                5. Enter 5 to Exit\n",
        "        \"\"\")\n",
        "        if user_input == '1':\n",
        "            self.create_pin()\n",
        "        elif user_input == '2':\n",
        "            self.deposit()\n",
        "        elif user_input == '3':\n",
        "            self.withdraw()\n",
        "        elif user_input == '4':\n",
        "            self.check_balance()\n",
        "        else:\n",
        "            print(\"Bye\")\n",
        "\n",
        "    #Now we create method (functions)\n",
        "    def create_pin(self):\n",
        "        self.__pin = input(\"Enter you pin : \")\n",
        "        print(\"Pin set successfully \")\n",
        "\n",
        "    def deposit(self):\n",
        "        temp = input(\"Enter you pin : \")\n",
        "        if temp == self.__pin:\n",
        "            amount = int(input(\"Enter the Amount : \"))\n",
        "            self.__balance = self.__balance + amount\n",
        "            print(\"Deposit Successfully \")\n",
        "        else:\n",
        "            print(\"Invalid Pin\")\n",
        "\n",
        "    def withdraw(self):\n",
        "        temp = input(\"Enter you pin : \")\n",
        "        if temp == self.__pin:\n",
        "            amount = int(input(\"Enter the Amount : \"))\n",
        "            if amount < self.__balance:\n",
        "                self.__balance = self.__balance - amount\n",
        "                print(\"OPeration Successfully \")\n",
        "            else:\n",
        "                print(\"Insufficient Funds\")\n",
        "        else:\n",
        "            print(\"Invalid Pin\")\n",
        "\n",
        "    def check_balance(self):\n",
        "        temp = input(\"Enter you pin : \")\n",
        "        if temp == self.__pin:\n",
        "            print(f\"Your Balance : {self.__balance}\")\n",
        "        else:\n",
        "            print(\"Invalid Pin\")\n",
        "\n",
        "\n",
        "\n",
        "sbi = Atm()\n",
        "\n",
        "new_pin = input(\"Enter your new PIN: \")\n",
        "\n",
        "sbi.set_pin(new_pin)\n"
      ],
      "metadata": {
        "colab": {
          "base_uri": "https://localhost:8080/"
        },
        "id": "AhyNFt9D0no0",
        "outputId": "a1d4a4f5-37b9-47d3-d554-b7e0aefaef57"
      },
      "execution_count": 16,
      "outputs": [
        {
          "output_type": "stream",
          "name": "stdout",
          "text": [
            "\n",
            "                Hello, How would you like to proceed ?\n",
            "                1. Enter 1 to create pin\n",
            "                2. Enter 2 to deposite\n",
            "                3. Enter 3 to withdraw\n",
            "                4. Enter 4 to check balance\n",
            "                5. Enter 5 to Exit        \n",
            "        1\n",
            "Enter you pin : 111\n",
            "Pin set successfully \n",
            "Enter your new PIN: 222\n",
            "Pin Changed Succesffuly !\n"
          ]
        }
      ]
    },
    {
      "cell_type": "code",
      "source": [
        "sbi.check_balance()"
      ],
      "metadata": {
        "colab": {
          "base_uri": "https://localhost:8080/"
        },
        "id": "Yumo1MNr1rP3",
        "outputId": "bf80a3c4-a0dc-4148-d46a-b1f2330c9b31"
      },
      "execution_count": 17,
      "outputs": [
        {
          "output_type": "stream",
          "name": "stdout",
          "text": [
            "Enter you pin : 111\n",
            "Invalid Pin\n"
          ]
        }
      ]
    },
    {
      "cell_type": "code",
      "source": [
        "sbi.get_pin()"
      ],
      "metadata": {
        "colab": {
          "base_uri": "https://localhost:8080/",
          "height": 36
        },
        "id": "PUKkVEOp1tdk",
        "outputId": "d3c7bff9-413f-44e3-bc9c-5b5d33b48d4b"
      },
      "execution_count": 18,
      "outputs": [
        {
          "output_type": "execute_result",
          "data": {
            "text/plain": [
              "'222'"
            ],
            "application/vnd.google.colaboratory.intrinsic+json": {
              "type": "string"
            }
          },
          "metadata": {},
          "execution_count": 18
        }
      ]
    },
    {
      "cell_type": "code",
      "source": [],
      "metadata": {
        "id": "nfL8rOae2EXh"
      },
      "execution_count": null,
      "outputs": []
    }
  ]
}